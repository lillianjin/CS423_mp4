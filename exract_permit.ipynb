{
 "cells": [
  {
   "cell_type": "markdown",
   "metadata": {},
   "source": [
    "# Extract least privilege policy"
   ]
  },
  {
   "cell_type": "code",
   "execution_count": 36,
   "metadata": {},
   "outputs": [],
   "source": [
    "with open('p.log','r') as f:\n",
    "    linelist = f.readlines()\n",
    "suffix = '(No such file or directory)\\n'\n",
    "res = [line for line in linelist if line.startswith('open') and not line.endswith(suffix)]\n",
    "\n",
    "dic = {}\n",
    "skiplist = [\"/dev\", \"/proc\", \"/lib\", \"/events\", \"/mnt\", \"/run\", \"/lvm\", \"/conf\", \"/usr\", \"/bin\"]\n",
    "for line in res:\n",
    "    path = line.split('\"')[1]\n",
    "#     paths = path.split('/')\n",
    "    shouldSkip = False\n",
    "    for start in skiplist:\n",
    "        if path.startswith(start):\n",
    "            shouldSkip = True\n",
    "        if path == '/':\n",
    "            shouldSkip = True\n",
    "    if shouldSkip or path == '/etc/nshadow':\n",
    "        continue\n",
    "    middle = line.split('\"')[2]\n",
    "    permission = middle[2:].split(')')[0].split('|')\n",
    "    if 'O_CLOEXEC' in permission:\n",
    "        permission.remove('O_CLOEXEC')\n",
    "    if 'O_NONBLOCK' in permission:\n",
    "        permission.remove('O_NONBLOCK')\n",
    "    if 'O_NOCTTY' in permission:\n",
    "        permission.remove('O_NOCTTY')\n",
    "    if 'O_DIRECTORY' in permission:\n",
    "        permission.remove('O_DIRECTORY')\n",
    "    dic[path] = permission[0]\n",
    "# Find directories\n",
    "directory = set()\n",
    "for path in dic.keys():\n",
    "    sep = path.split(\"/\")[1:]\n",
    "    for i in range(len(sep)-1):\n",
    "        dir_path = '/'+'/'.join(sep[:i+1])\n",
    "        directory.add(dir_path)"
   ]
  },
  {
   "cell_type": "code",
   "execution_count": 37,
   "metadata": {},
   "outputs": [],
   "source": [
    "with open('passwd.perm', 'w') as f:\n",
    "    f.write('sudo setfattr -n security.mp4 -v target /usr/bin/passwd\\n')\n",
    "    for di in directory:\n",
    "        f.write('sudo setfattr -n security.mp4 -v dir ' + di + '\\n')\n",
    "    for path, permit in dic.items():\n",
    "        if permit == \"O_RDONLY\":\n",
    "            res = \"sudo setfattr -n security.mp4 -v read-only \"\n",
    "        elif permit == \"O_RDWR\":\n",
    "            res = \"sudo setfattr -n security.mp4 -v read-write \"\n",
    "        elif permit == \"O_WRONLY\":\n",
    "            res = \"sudo setfattr -n security.mp4 -v write-only \"\n",
    "        else:\n",
    "            print('ERROR! permit')\n",
    "        f.write(res+path+'\\n')\n",
    "\n",
    "with open('passwd.perm.unload', 'w') as f:\n",
    "    f.write('sudo setfattr -x security.mp4 /usr/bin/passwd\\n')\n",
    "    for di in directory:\n",
    "        f.write('sudo setfattr -x security.mp4 ' + di + '\\n')\n",
    "    for path in dic.keys():\n",
    "        f.write('sudo setfattr -x security.mp4 '+path+'\\n')"
   ]
  },
  {
   "cell_type": "code",
   "execution_count": null,
   "metadata": {},
   "outputs": [],
   "source": []
  }
 ],
 "metadata": {
  "kernelspec": {
   "display_name": "Python 3",
   "language": "python",
   "name": "python3"
  },
  "language_info": {
   "codemirror_mode": {
    "name": "ipython",
    "version": 3
   },
   "file_extension": ".py",
   "mimetype": "text/x-python",
   "name": "python",
   "nbconvert_exporter": "python",
   "pygments_lexer": "ipython3",
   "version": "3.7.3"
  }
 },
 "nbformat": 4,
 "nbformat_minor": 2
}
