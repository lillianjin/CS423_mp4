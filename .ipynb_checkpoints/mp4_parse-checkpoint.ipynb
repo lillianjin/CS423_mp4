{
 "cells": [
  {
   "cell_type": "code",
   "execution_count": 1,
   "metadata": {},
   "outputs": [],
   "source": [
    "import re\n",
    "log = open(\"p.log\").read().split(\"\\n\")\n",
    "skip = [\"dev\", \"proc\", \"lib\", \"events\", \"mnt\", \"run\", \"lvm\", \"conf\", \"usr\", \"bin\"]\n",
    "\n",
    "path_privilege = {}\n",
    "for line in log:\n",
    "    if \"open\" in line:\n",
    "        if len(re.compile('.-1.').findall(line)) == 1:\n",
    "            continue\n",
    "        if len(re.compile('\"(.*)\"').findall(line)) == 0:\n",
    "            continue  \n",
    "        file_path = re.compile('\"(.*)\"').findall(line)[0]\n",
    "        if \"proc\" in file_path:\n",
    "            continue\n",
    "        file_attr = re.compile('O_[A-Z]*[A-Z]').findall(line)\n",
    "        if file_path not in path_privilege:\n",
    "            path_privilege[file_path] = set()\n",
    "        path_privilege[file_path] = path_privilege[file_path].union(file_attr)\n",
    "        \n",
    "load = []\n",
    "load.append(\"sudo setfattr -n security.mp4 -v target /usr/bin/passwd\")\n",
    "unload = []\n",
    "unload.append(\"sudo setfattr -x security.mp4 /usr/bin/passwd\")\n",
    "dir_set = set()\n",
    "for k, v in path_privilege.items():\n",
    "    if k.split(\"/\")[1] not in skip:\n",
    "        dir_temp = \"/\"\n",
    "        for directory in k.split(\"/\")[1:-1]:\n",
    "            dir_temp += directory\n",
    "            dir_set.add(dir_temp)\n",
    "            dir_temp += \"/\"\n",
    "    temp = \"sudo setfattr -n security.mp4 -v \"\n",
    "    if \"O_RDONLY\" in v and \"O_WRONLY\" in v:\n",
    "        temp += \"read-write\"\n",
    "    elif \"O_RDONLY\" in v:\n",
    "        temp += \"read-only\"\n",
    "    elif \"O_WRONLY\" in v:\n",
    "        temp += \"write-only\"\n",
    "    temp += \" \"\n",
    "    temp += k\n",
    "    load.append(temp)\n",
    "    unload.append(\"sudo setfattr -x security.mp4 \" + k)\n",
    "\n",
    "for directory in dir_set:\n",
    "    load.append(\"sudo setfattr -n security.mp4 -v dir-write \" + directory)\n",
    "    unload.append(\"sudo setfattr -x security.mp4 \" + directory)\n",
    "    \n",
    "f = open(\"passwd.perm\",\"w+\").write(\"\\n\".join(load))\n",
    "f = open(\"passwd.perm.unload\",\"w+\").write(\"\\n\".join(unload))"
   ]
  },
  {
   "cell_type": "code",
   "execution_count": null,
   "metadata": {},
   "outputs": [],
   "source": []
  }
 ],
 "metadata": {
  "kernelspec": {
   "display_name": "Python 3",
   "language": "python",
   "name": "python3"
  },
  "language_info": {
   "codemirror_mode": {
    "name": "ipython",
    "version": 3
   },
   "file_extension": ".py",
   "mimetype": "text/x-python",
   "name": "python",
   "nbconvert_exporter": "python",
   "pygments_lexer": "ipython3",
   "version": "3.7.3"
  }
 },
 "nbformat": 4,
 "nbformat_minor": 2
}
